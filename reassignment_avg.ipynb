{
 "cells": [
  {
   "cell_type": "code",
   "execution_count": 1,
   "id": "f905cfc7",
   "metadata": {},
   "outputs": [],
   "source": [
    "import pandas as pd\n",
    "import psycopg2\n",
    "from moveworks.utils.config.yaml_config import load_yaml_config_to_box\n"
   ]
  },
  {
   "cell_type": "code",
   "execution_count": 2,
   "id": "9d466893",
   "metadata": {},
   "outputs": [],
   "source": [
    "def connect(conn_params_dic):\n",
    "    conn = None\n",
    "    try:\n",
    "        print('Connecting to the PostgreSQL...........')\n",
    "        conn = psycopg2.connect(**conn_params_dic)\n",
    "        print(\"Connection successful..................\")\n",
    "        \n",
    "    except OperationalError as err:\n",
    "        print(color.BOLD + \"\"\"Unable to connect to the DB, please double check your credentials file \n",
    "              and ensure you are connected to the VPN\n",
    "        \"\"\")\n",
    "        # passing exception to function     \n",
    "        show_psycopg2_exception(err)   \n",
    "        # set the connection to 'None' in case of error\n",
    "        conn = None\n",
    "    \n",
    "    return conn"
   ]
  },
  {
   "cell_type": "code",
   "execution_count": 3,
   "id": "eb80112e",
   "metadata": {},
   "outputs": [
    {
     "name": "stdout",
     "output_type": "stream",
     "text": [
      "Connecting to the PostgreSQL...........\n",
      "Connection successful..................\n"
     ]
    }
   ],
   "source": [
    "config = load_yaml_config_to_box('dse_app_db_config.yml')\n",
    "        \n",
    "conn_params_dic = {\n",
    "     \"host\": config['DSE_APP_DB_HOST'],\n",
    "    \"port\": config['DSE_APP_DB_PORT'],\n",
    "    \"user\": config['DSE_APP_DB_USER'],\n",
    "    \"password\": config['DSE_APP_DB_PWD'],\n",
    "    \"database\": config['DSE_APP_DB_NAME']\n",
    "}\n",
    "\n",
    "connection = connect(conn_params_dic)"
   ]
  },
  {
   "cell_type": "code",
   "execution_count": 4,
   "id": "fb09be7f",
   "metadata": {},
   "outputs": [
    {
     "data": {
      "text/html": [
       "<div>\n",
       "<style scoped>\n",
       "    .dataframe tbody tr th:only-of-type {\n",
       "        vertical-align: middle;\n",
       "    }\n",
       "\n",
       "    .dataframe tbody tr th {\n",
       "        vertical-align: top;\n",
       "    }\n",
       "\n",
       "    .dataframe thead th {\n",
       "        text-align: right;\n",
       "    }\n",
       "</style>\n",
       "<table border=\"1\" class=\"dataframe\">\n",
       "  <thead>\n",
       "    <tr style=\"text-align: right;\">\n",
       "      <th></th>\n",
       "      <th>pttr</th>\n",
       "    </tr>\n",
       "    <tr>\n",
       "      <th>reassignment_count_bin</th>\n",
       "      <th></th>\n",
       "    </tr>\n",
       "  </thead>\n",
       "  <tbody>\n",
       "    <tr>\n",
       "      <th>0 Reassignments</th>\n",
       "      <td>3.516781</td>\n",
       "    </tr>\n",
       "    <tr>\n",
       "      <th>1 Reassignment</th>\n",
       "      <td>6.219913</td>\n",
       "    </tr>\n",
       "    <tr>\n",
       "      <th>2+ Reassignments</th>\n",
       "      <td>10.844113</td>\n",
       "    </tr>\n",
       "  </tbody>\n",
       "</table>\n",
       "</div>"
      ],
      "text/plain": [
       "                             pttr\n",
       "reassignment_count_bin           \n",
       "0 Reassignments          3.516781\n",
       "1 Reassignment           6.219913\n",
       "2+ Reassignments        10.844113"
      ]
     },
     "execution_count": 4,
     "metadata": {},
     "output_type": "execute_result"
    }
   ],
   "source": [
    "query = \"\"\"\n",
    "select distinct \n",
    "    ID.ORG,\n",
    "    ID.reassignment_count_bin,\n",
    "    AVG(calendar_duration) as pttr\n",
    "FROM\n",
    "    AIA_METRICS.ITSM_DATA ID\n",
    "WHERE\n",
    "    ID.EXCLUDE = 'No'\n",
    "AND \n",
    "    ID.ticket_type = 'INC'\n",
    "AND\n",
    "    ID.reassignment_count_bin NOT IN ('No Reassignment Bin')\n",
    "AND\n",
    "    ID.reassignment_count_bin  IS NOT NULL\n",
    "GROUP BY \n",
    "    ID.ORG,\n",
    "    ID.reassignment_count_bin \n",
    "ORDER BY\n",
    "    ID.ORG;\n",
    "\"\"\"\n",
    "\n",
    "ticket_data = pd.read_sql_query(query, con=connection)\n",
    "ticket_data[['reassignment_count_bin', 'pttr']].groupby('reassignment_count_bin').mean()"
   ]
  }
 ],
 "metadata": {
  "kernelspec": {
   "display_name": "Python 3",
   "language": "python",
   "name": "python3"
  },
  "language_info": {
   "codemirror_mode": {
    "name": "ipython",
    "version": 3
   },
   "file_extension": ".py",
   "mimetype": "text/x-python",
   "name": "python",
   "nbconvert_exporter": "python",
   "pygments_lexer": "ipython3",
   "version": "3.6.8"
  }
 },
 "nbformat": 4,
 "nbformat_minor": 5
}
